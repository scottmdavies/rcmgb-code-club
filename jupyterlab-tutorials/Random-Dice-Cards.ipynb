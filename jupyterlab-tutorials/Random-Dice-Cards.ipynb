{
 "cells": [
  {
   "cell_type": "markdown",
   "metadata": {
    "slideshow": {
     "slide_type": "slide"
    }
   },
   "source": [
    "# Dice"
   ]
  },
  {
   "cell_type": "markdown",
   "metadata": {
    "slideshow": {
     "slide_type": "fragment"
    }
   },
   "source": [
    "## Rolling a dice once\n"
   ]
  },
  {
   "cell_type": "code",
   "execution_count": 90,
   "metadata": {
    "slideshow": {
     "slide_type": "subslide"
    }
   },
   "outputs": [
    {
     "name": "stdout",
     "output_type": "stream",
     "text": [
      "6\n"
     ]
    }
   ],
   "source": [
    "# https://docs.python.org/3/library/random.html\n",
    "# random is a built-in module with several functions\n",
    "import random \n",
    "\n",
    "# random.randint(a,b) is a function that takes in two integers and returns a random number between them\n",
    "random_int = random.randint(1,6)\n",
    "\n",
    "# prints value of << object: random_int >> to console\n",
    "print(random_int)\n"
   ]
  },
  {
   "cell_type": "markdown",
   "metadata": {
    "slideshow": {
     "slide_type": "slide"
    }
   },
   "source": [
    "## Rolling a dice N times"
   ]
  },
  {
   "cell_type": "code",
   "execution_count": 79,
   "metadata": {
    "slideshow": {
     "slide_type": "subslide"
    }
   },
   "outputs": [
    {
     "name": "stdout",
     "output_type": "stream",
     "text": [
      "2\n",
      "5\n",
      "4\n"
     ]
    }
   ],
   "source": [
    "# import random module to access randint(a,b) function\n",
    "\n",
    "import random\n",
    "\n",
    "# set variables for while loop\n",
    "\n",
    "dice_rolls = 3 # change me for number of dice rolls\n",
    "throw_dice = 0\n",
    "\n",
    "# loop with condition that thrown dice is less than number of dice rolls\n",
    "# 0 < 3 then increment throw_dice by 1\n",
    "\n",
    "while throw_dice < dice_rolls: \n",
    "    dice_face = random.randint(1,6)\n",
    "    print(dice_face)\n",
    "    \n",
    "    # increment variable for number of dice thrown\n",
    "    # alt. throw_dice += 1\n",
    "    throw_dice = throw_dice + 1"
   ]
  },
  {
   "cell_type": "markdown",
   "metadata": {
    "slideshow": {
     "slide_type": "slide"
    }
   },
   "source": [
    "## Shuffling a list of integers"
   ]
  },
  {
   "cell_type": "code",
   "execution_count": 88,
   "metadata": {
    "slideshow": {
     "slide_type": "fragment"
    }
   },
   "outputs": [
    {
     "name": "stdout",
     "output_type": "stream",
     "text": [
      "[1, 9, 2, 3, 10, 6]\n"
     ]
    }
   ],
   "source": [
    "import random\n",
    "\n",
    "# create a list of integers\n",
    "original_list = [1,9,2,3,10,6]\n",
    "\n",
    "print(original_list)"
   ]
  },
  {
   "cell_type": "code",
   "execution_count": 89,
   "metadata": {
    "slideshow": {
     "slide_type": "fragment"
    }
   },
   "outputs": [
    {
     "name": "stdout",
     "output_type": "stream",
     "text": [
      "[2, 9, 1, 6, 3, 10]\n"
     ]
    }
   ],
   "source": [
    "# use original_list\n",
    "\n",
    "shuffled_list = original_list # copy to new\n",
    "random.shuffle(shuffled_list) # shuffles inline and returns None\n",
    "\n",
    "print(shuffled_list) # print shuffled list"
   ]
  },
  {
   "cell_type": "markdown",
   "metadata": {
    "slideshow": {
     "slide_type": "slide"
    }
   },
   "source": [
    "# Playing Cards"
   ]
  },
  {
   "cell_type": "markdown",
   "metadata": {
    "slideshow": {
     "slide_type": "fragment"
    }
   },
   "source": [
    "## Shuffling a set of cards"
   ]
  },
  {
   "cell_type": "code",
   "execution_count": 82,
   "metadata": {
    "slideshow": {
     "slide_type": "subslide"
    }
   },
   "outputs": [
    {
     "name": "stdout",
     "output_type": "stream",
     "text": [
      "[2, 3, 4, 5, 6, 7, 8, 9, 10]\n",
      "['Ace', 'King', 'Queen', 'Jack']\n"
     ]
    }
   ],
   "source": [
    "# list comprehension: for each \"number\" generated from the function: range 1-11, add this \"number\" to a list [ ]\n",
    "card_numbers = [] \n",
    "# alt. use list comprehension [number for number in range(2,11)]\n",
    "\n",
    "for number in range(2,11):\n",
    "    card_numbers.append(number)\n",
    "\n",
    "print(card_numbers)\n",
    "\n",
    "card_specials = [\"Ace\",\"King\",\"Queen\",\"Jack\"] # list of \"strings\"\n",
    "print(card_specials)\n"
   ]
  },
  {
   "cell_type": "code",
   "execution_count": 83,
   "metadata": {
    "slideshow": {
     "slide_type": "subslide"
    }
   },
   "outputs": [
    {
     "name": "stdout",
     "output_type": "stream",
     "text": [
      "[2, 3, 4, 5, 6, 7, 8, 9, 10, 'Ace', 'King', 'Queen', 'Jack']\n"
     ]
    }
   ],
   "source": [
    "card_faces = card_numbers + card_specials # combine the two lists\n",
    "print(card_faces)"
   ]
  },
  {
   "cell_type": "code",
   "execution_count": 84,
   "metadata": {
    "slideshow": {
     "slide_type": "subslide"
    }
   },
   "outputs": [
    {
     "name": "stdout",
     "output_type": "stream",
     "text": [
      "['Spade', 'Club', 'Heart', 'Diamond']\n"
     ]
    }
   ],
   "source": [
    "card_suits = [\"Spade\",\"Club\",\"Heart\",\"Diamond\"] # list of suits\n",
    "print(card_suits)"
   ]
  },
  {
   "cell_type": "code",
   "execution_count": 85,
   "metadata": {
    "slideshow": {
     "slide_type": "subslide"
    }
   },
   "outputs": [
    {
     "name": "stdout",
     "output_type": "stream",
     "text": [
      "[('Spade', 2), ('Spade', 3), ('Spade', 4), ('Spade', 5), ('Spade', 6), ('Spade', 7), ('Spade', 8), ('Spade', 9), ('Spade', 10), ('Spade', 'Ace'), ('Spade', 'King'), ('Spade', 'Queen'), ('Spade', 'Jack'), ('Club', 2), ('Club', 3), ('Club', 4), ('Club', 5), ('Club', 6), ('Club', 7), ('Club', 8), ('Club', 9), ('Club', 10), ('Club', 'Ace'), ('Club', 'King'), ('Club', 'Queen'), ('Club', 'Jack'), ('Heart', 2), ('Heart', 3), ('Heart', 4), ('Heart', 5), ('Heart', 6), ('Heart', 7), ('Heart', 8), ('Heart', 9), ('Heart', 10), ('Heart', 'Ace'), ('Heart', 'King'), ('Heart', 'Queen'), ('Heart', 'Jack'), ('Diamond', 2), ('Diamond', 3), ('Diamond', 4), ('Diamond', 5), ('Diamond', 6), ('Diamond', 7), ('Diamond', 8), ('Diamond', 9), ('Diamond', 10), ('Diamond', 'Ace'), ('Diamond', 'King'), ('Diamond', 'Queen'), ('Diamond', 'Jack')]\n"
     ]
    },
    {
     "data": {
      "text/plain": [
       "52"
      ]
     },
     "execution_count": 85,
     "metadata": {},
     "output_type": "execute_result"
    }
   ],
   "source": [
    "card_deck = [] # empty list of cards\n",
    "\n",
    "# loop through each card suit and face in cards, creating a list of cards (deck) \n",
    "for suit in card_suits:\n",
    "    for face in card_faces:\n",
    "        suit_set = (suit, face) # create tuple with suit and number/special\n",
    "        card_deck.append(suit_set) # add tuple to card_deck list\n",
    "\n",
    "print(card_deck)\n",
    "len(card_deck)"
   ]
  },
  {
   "cell_type": "code",
   "execution_count": 86,
   "metadata": {
    "slideshow": {
     "slide_type": "subslide"
    }
   },
   "outputs": [
    {
     "name": "stdout",
     "output_type": "stream",
     "text": [
      "[('Club', 8), ('Diamond', 3), ('Diamond', 'Queen'), ('Diamond', 9), ('Heart', 8), ('Spade', 'Jack'), ('Club', 3), ('Club', 5), ('Heart', 6), ('Club', 10), ('Spade', 3), ('Heart', 'King'), ('Spade', 4), ('Heart', 9), ('Spade', 'King'), ('Heart', 'Queen'), ('Diamond', 'Jack'), ('Club', 7), ('Spade', 'Queen'), ('Spade', 5), ('Club', 'King'), ('Spade', 'Ace'), ('Spade', 10), ('Diamond', 4), ('Heart', 5), ('Club', 2), ('Heart', 4), ('Heart', 'Jack'), ('Diamond', 6), ('Spade', 8), ('Diamond', 'Ace'), ('Club', 6), ('Spade', 6), ('Club', 'Queen'), ('Spade', 7), ('Diamond', 'King'), ('Club', 9), ('Diamond', 5), ('Spade', 2), ('Club', 'Ace'), ('Diamond', 8), ('Heart', 3), ('Diamond', 7), ('Club', 4), ('Heart', 10), ('Heart', 2), ('Heart', 'Ace'), ('Club', 'Jack'), ('Diamond', 10), ('Heart', 7), ('Diamond', 2), ('Spade', 9)]\n"
     ]
    }
   ],
   "source": [
    "random.shuffle(card_deck)\n",
    "print(card_deck)\n"
   ]
  },
  {
   "cell_type": "code",
   "execution_count": 87,
   "metadata": {
    "slideshow": {
     "slide_type": "subslide"
    }
   },
   "outputs": [
    {
     "name": "stdout",
     "output_type": "stream",
     "text": [
      "Card number: 36\n",
      "Card drawn: 9 of Clubs\n"
     ]
    }
   ],
   "source": [
    "# create our own function to draw a random card from the card deck and show its face\n",
    "def draw_card(card_deck):\n",
    "    draw = random.randint(1,51)\n",
    "    print(\"Card number:\", draw)\n",
    "    \n",
    "    # random integer is used as an index on the card_deck list\n",
    "    card = card_deck[draw]\n",
    "    print(\"Card drawn:\",card[1],\"of\",card[0]+\"s\")\n",
    "\n",
    "draw_card(card_deck)"
   ]
  }
 ],
 "metadata": {
  "kernelspec": {
   "display_name": "Python 3",
   "language": "python",
   "name": "python3"
  },
  "language_info": {
   "codemirror_mode": {
    "name": "ipython",
    "version": 3
   },
   "file_extension": ".py",
   "mimetype": "text/x-python",
   "name": "python",
   "nbconvert_exporter": "python",
   "pygments_lexer": "ipython3",
   "version": "3.6.5"
  }
 },
 "nbformat": 4,
 "nbformat_minor": 2
}
